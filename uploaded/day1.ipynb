{
 "cells": [
  {
   "cell_type": "markdown",
   "id": "74984005-ab13-4137-9a26-1758129ef7f1",
   "metadata": {},
   "source": [
    "### 1일차 코드 부수기\n",
    "- 첫 번째 실습\n",
    "- 두 번째 실습"
   ]
  },
  {
   "cell_type": "code",
   "execution_count": null,
   "id": "30acabf3-109a-4bd6-bfdd-ff7392522fb0",
   "metadata": {},
   "outputs": [],
   "source": [
    "x = 10"
   ]
  },
  {
   "cell_type": "code",
   "execution_count": null,
   "id": "6e902a6c-8887-4b1f-838b-b13efff55029",
   "metadata": {},
   "outputs": [],
   "source": [
    "y = 20"
   ]
  },
  {
   "cell_type": "code",
   "execution_count": null,
   "id": "1473956c-5060-40e3-a90b-d6acd65c36db",
   "metadata": {},
   "outputs": [],
   "source": [
    "print(x + y)"
   ]
  },
  {
   "cell_type": "code",
   "execution_count": null,
   "id": "9963dffe-e446-4102-b9a0-d299ed46ff5e",
   "metadata": {},
   "outputs": [],
   "source": [
    "num = 3"
   ]
  },
  {
   "cell_type": "code",
   "execution_count": null,
   "id": "d0d1f9a5-589e-476f-8ef3-1194bf632506",
   "metadata": {},
   "outputs": [],
   "source": [
    "print(num)"
   ]
  },
  {
   "cell_type": "code",
   "execution_count": null,
   "id": "2ed2045c-5b35-498b-8f97-96d1b08d6045",
   "metadata": {},
   "outputs": [],
   "source": [
    "print(1 + 2)\n",
    "print(2 + 3)\n",
    "print(3 + 4)\n",
    "print(4 + 5)"
   ]
  },
  {
   "cell_type": "code",
   "execution_count": 9,
   "id": "4b5d64c2-d692-4973-a437-6e4034ff4f5d",
   "metadata": {},
   "outputs": [
    {
     "name": "stdout",
     "output_type": "stream",
     "text": [
      "315\n",
      "285\n",
      "4500\n",
      "20.0\n"
     ]
    }
   ],
   "source": [
    "num1 = 300\n",
    "num2 = 15\n",
    "print(num1 + num2)\n",
    "print(num1 - num2)\n",
    "print(num1 * num2)\n",
    "print(num1 / num2)"
   ]
  },
  {
   "cell_type": "code",
   "execution_count": 13,
   "id": "0e960e90-15c0-4ba2-8335-31107a94c7d1",
   "metadata": {},
   "outputs": [
    {
     "name": "stdout",
     "output_type": "stream",
     "text": [
      "Hello World!\n",
      "Hello World!!\n"
     ]
    }
   ],
   "source": [
    "print(\"Hello World!\")\n",
    "hello = 'Hello World!!'\n",
    "print(hello)"
   ]
  },
  {
   "cell_type": "code",
   "execution_count": 14,
   "id": "327da697-96f1-440a-be91-bd92ff6df65f",
   "metadata": {},
   "outputs": [],
   "source": [
    "is_rainy = False\n",
    "is_friday = False\n",
    "is_go_home = False\n",
    "is_study = True"
   ]
  },
  {
   "cell_type": "code",
   "execution_count": 16,
   "id": "156c2508-24f8-4ff2-8959-ce261d3f1f73",
   "metadata": {},
   "outputs": [
    {
     "name": "stdout",
     "output_type": "stream",
     "text": [
      "황재윤 황석현\n"
     ]
    }
   ],
   "source": [
    "name = \"황재윤\"\n",
    "Name = '황석현'\n",
    "print(name, Name)"
   ]
  },
  {
   "cell_type": "code",
   "execution_count": 18,
   "id": "a6b5b523-cd57-49a6-b26b-434215899971",
   "metadata": {},
   "outputs": [
    {
     "name": "stdout",
     "output_type": "stream",
     "text": [
      "국밥\n"
     ]
    }
   ],
   "source": [
    "점심 = \"국밥\"\n",
    "print(점심)"
   ]
  },
  {
   "cell_type": "code",
   "execution_count": 19,
   "id": "d774af7a-6d16-4906-93b0-f1f4f71b9121",
   "metadata": {},
   "outputs": [
    {
     "name": "stdout",
     "output_type": "stream",
     "text": [
      "['False', 'None', 'True', '__peg_parser__', 'and', 'as', 'assert', 'async', 'await', 'break', 'class', 'continue', 'def', 'del', 'elif', 'else', 'except', 'finally', 'for', 'from', 'global', 'if', 'import', 'in', 'is', 'lambda', 'nonlocal', 'not', 'or', 'pass', 'raise', 'return', 'try', 'while', 'with', 'yield']\n"
     ]
    }
   ],
   "source": [
    "from keyword import kwlist\n",
    "print(kwlist)"
   ]
  },
  {
   "cell_type": "code",
   "execution_count": 27,
   "id": "6e392581-0ef1-4589-8202-173dd02d77e6",
   "metadata": {},
   "outputs": [
    {
     "name": "stdout",
     "output_type": "stream",
     "text": [
      "0.5000001943375613\n"
     ]
    }
   ],
   "source": [
    "import math\n",
    "# import 실행 시 아무일도 일어나지 않는다\n",
    "# 정상 로딩!!\n",
    "print(math.sin(0.523599))"
   ]
  },
  {
   "cell_type": "markdown",
   "id": "d1c75dbc-ecdc-49ef-99cb-0f382be9ddd4",
   "metadata": {},
   "source": [
    "### 연산자(Operator)\n",
    "- 산술 연산자\n",
    "- 지수 연산자\n",
    "- 대입 연산자\n",
    "- 관계 연산자\n",
    "- 논리 연산자\n",
    "- 삼항 연산자"
   ]
  },
  {
   "cell_type": "code",
   "execution_count": 35,
   "id": "2b3bd93d-588c-4937-981f-f59930f821a5",
   "metadata": {},
   "outputs": [
    {
     "name": "stdout",
     "output_type": "stream",
     "text": [
      "17\n",
      "3\n",
      "70\n",
      "1.4285714285714286\n",
      "1\n",
      "3\n"
     ]
    }
   ],
   "source": [
    "### 산술 연산자\n",
    "num3 = 10\n",
    "num4 = 7\n",
    "print(num3 + num4)\n",
    "print(num3 - num4)\n",
    "print(num3 * num4)\n",
    "print(num3 / num4)\n",
    "print(num3 // num4) #몫\n",
    "print(num3 % num4) #나머지"
   ]
  },
  {
   "cell_type": "code",
   "execution_count": 36,
   "id": "e9a4d267-b714-498c-b79e-fa48243237d3",
   "metadata": {},
   "outputs": [
    {
     "name": "stdout",
     "output_type": "stream",
     "text": [
      "1024\n"
     ]
    }
   ],
   "source": [
    "print(2**10)"
   ]
  },
  {
   "cell_type": "code",
   "execution_count": 39,
   "id": "88f2eb3f-553a-4c38-91ed-e7333b7b8c1b",
   "metadata": {},
   "outputs": [
    {
     "name": "stdout",
     "output_type": "stream",
     "text": [
      "23\n"
     ]
    }
   ],
   "source": [
    "#지수 연산자 (=)\n",
    "# 변수명 = 값\n",
    "# 반드시 = 오른쪽이먼저 연산!!\n",
    "# 연산자의 우선순위\n",
    "# 3 + 5\n",
    "# 3\n",
    "age = 20 + 1\n",
    "age = age + 1\n",
    "# 복합대입연산자\n",
    "age += 1 # age 변수 값을 호출 후 1을 더한다. 다시 age에 저장!!\n",
    "# age =age + 1\n",
    "print(age)"
   ]
  },
  {
   "cell_type": "code",
   "execution_count": 40,
   "id": "0effb5fb-1854-4f17-9a18-11b26cc932f1",
   "metadata": {},
   "outputs": [],
   "source": [
    "money = 10000\n",
    "# money에서 3000을 뺀 후 다시 money에 저장!!!\n",
    "money = money - 3000\n",
    "# money -= 3000\n",
    "# 산술연산자 6개에 대입연산자 =을 붙여\n",
    "# 복합대입연산자 가능!!\n",
    "# += -= *= /= //= %="
   ]
  },
  {
   "cell_type": "code",
   "execution_count": 46,
   "id": "dd38ae84-632c-4f55-a0e0-4fdfd0ed0e83",
   "metadata": {},
   "outputs": [],
   "source": [
    "# 겂을 출력하는 기능 : print() 함수\n",
    "# 값을 입력받는 기능 : input()"
   ]
  },
  {
   "cell_type": "code",
   "execution_count": 48,
   "id": "ee57bcc4-975c-4654-8b1c-fd82957a3430",
   "metadata": {},
   "outputs": [
    {
     "name": "stdin",
     "output_type": "stream",
     "text": [
      "이름을 입력하세요 : 황재윤\n"
     ]
    },
    {
     "name": "stdout",
     "output_type": "stream",
     "text": [
      "이름 : 황재윤\n"
     ]
    }
   ],
   "source": [
    "name = input(\"이름을 입력하세요 :\")\n",
    "print (\"이름 :\", name)"
   ]
  },
  {
   "cell_type": "code",
   "execution_count": null,
   "id": "f2a39563-64ed-46c3-837d-3fb0149f5247",
   "metadata": {},
   "outputs": [],
   "source": [
    "# 변수의대입\n",
    "# 변수명 = 값\n",
    "# 변수의 선언(변수의 이름을 짓는 부분!)\n",
    "# 변수의 할당(값을 변수에 대입!!)\n",
    "# 할당 중 최초 대입하는 과정 -> 초기화\n",
    "# 두 번째 할당 -> 재할당!!"
   ]
  },
  {
   "cell_type": "code",
   "execution_count": 51,
   "id": "46b48c49-7af6-43d4-8027-93d2e4b1e0ef",
   "metadata": {},
   "outputs": [
    {
     "name": "stdin",
     "output_type": "stream",
     "text": [
      "정수를입력하세요 : 1024\n"
     ]
    },
    {
     "name": "stdout",
     "output_type": "stream",
     "text": [
      "2048\n"
     ]
    }
   ],
   "source": [
    "#정수를 입력 받아 2를 곱한 후 출력!!\n",
    "# input을 통하여 입력  받은 값은!! 문자열이다!\n",
    "# 문자열 # 정수 -> 문자열을 정수만큼 반복\n",
    "num6 = int(input(\"정수를입력하세요 :\"))\n",
    "# 문자열인 num6를 정수로 변환(casting)\n",
    "# int(문자열)   -> 정수가 됨!!\n",
    "print(num6 * 2)"
   ]
  },
  {
   "cell_type": "code",
   "execution_count": null,
   "id": "9aa52935-0c30-4e8a-997c-dcb8faa9d1c8",
   "metadata": {},
   "outputs": [],
   "source": []
  },
  {
   "cell_type": "code",
   "execution_count": null,
   "id": "fccb36af-b254-4f18-8bda-d8b6876dfad9",
   "metadata": {},
   "outputs": [],
   "source": [
    "# 초를 입력 받아\n",
    "# 시, 분,초로 환산하는 프로그램\n",
    "# 7533 ->2시간 5분 33초\n",
    "total = int(input(\"초를 입력하세요 :\"))\n",
    "hour = 2\n",
    "minute = 5\n",
    "second = 33\n",
    "print(hour, \"시간\", minute, \"분\", second, \"초\")"
   ]
  }
 ],
 "metadata": {
  "kernelspec": {
   "display_name": "Python 3 (ipykernel)",
   "language": "python",
   "name": "python3"
  },
  "language_info": {
   "codemirror_mode": {
    "name": "ipython",
    "version": 3
   },
   "file_extension": ".py",
   "mimetype": "text/x-python",
   "name": "python",
   "nbconvert_exporter": "python",
   "pygments_lexer": "ipython3",
   "version": "3.9.23"
  }
 },
 "nbformat": 4,
 "nbformat_minor": 5
}
